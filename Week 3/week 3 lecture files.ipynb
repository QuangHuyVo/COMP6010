{
 "cells": [
  {
   "cell_type": "code",
   "execution_count": 6,
   "metadata": {
    "colab": {
     "base_uri": "https://localhost:8080/"
    },
    "id": "GMf1upr_j7G4",
    "outputId": "c94db3ef-bc01-406d-fbb6-8e184d938738"
   },
   "outputs": [
    {
     "name": "stdout",
     "output_type": "stream",
     "text": [
      "amount to withdraw is $380\n",
      "6\n",
      "4\n",
      "Number of 50s is 6\n",
      "Number of 20s is 4\n",
      "Total amount withdrawn is $380\n"
     ]
    }
   ],
   "source": [
    "# 0, 10, 20, 30, 40, 50, 60, 70, 80, 90\n",
    "\n",
    "amount=380\n",
    "\n",
    "if(type(amount) != int):\n",
    "    print(\"not an integer\")\n",
    "    quit()\n",
    "\n",
    "\n",
    "if(amount % 10 != 0 or amount < 20 or amount == 30):\n",
    "    print(\"not a valid amount to withdraw\")\n",
    "    quit()\n",
    "\n",
    "#at this point we can assume that:\n",
    "# - amount is an integer\n",
    "# - amount is 20, 40, or any multiple of 10 above 40\n",
    "print(\"amount to withdraw is $\" + str(amount))\n",
    "\n",
    "\n",
    "# 2 scenarios:\n",
    "# 1) number ending in $10 or $30\n",
    "# 2) number enging in $0, $20, $40, $50, $60, $70. $80, $90\n",
    "\n",
    "numberof50s = 0\n",
    "numberof20s = 0\n",
    "\n",
    "if(amount % 100 in {10, 30, 60, 80}):\n",
    "    # amount % 100 == 01 or amount % 100 == 30 or amount % 100 == 60 or amount % 100 == 80\n",
    "    #scenario 1\n",
    "    numberof50s = (amount//50) -1\n",
    "    amount = amount - (numberof50s * 50)\n",
    "    numberof20s = (amount//20)\n",
    "else:\n",
    "    #scenario 2\n",
    "    numberof50s = (amount//50)\n",
    "    amount = amount - (numberof50s * 50)\n",
    "    numberof20s = (amount//20)\n",
    "\n",
    "print(numberof50s)\n",
    "print(numberof20s)\n",
    "print(\"Number of 50s is \" + str(numberof50s))\n",
    "print(\"Number of 20s is \" + str(numberof20s))\n",
    "print(\"Total amount withdrawn is $\" + str((numberof50s*50) + (numberof20s*20)))\n",
    "\n",
    "\n",
    "\n"
   ]
  },
  {
   "cell_type": "code",
   "execution_count": 1,
   "metadata": {
    "id": "8aZasykDlmUV"
   },
   "outputs": [
    {
     "name": "stdout",
     "output_type": "stream",
     "text": [
      "2\n",
      "default case if nothing else\n"
     ]
    }
   ],
   "source": [
    "#conditionals\n",
    "#if statement\n",
    "if(5 < 3):\n",
    "  print(1);\n",
    "  print(2);\n",
    "\n",
    "\n",
    "#if else statement\n",
    "if(5 < 3):\n",
    "  print(1);\n",
    "else:\n",
    "  print(2);\n",
    "\n",
    "a = 5;\n",
    "if(a == 1):\n",
    "  print(1);\n",
    "elif(a == 2):\n",
    "  print(2);\n",
    "elif(a == 3):\n",
    "  print(\"I don't care\")\n",
    "else:\n",
    "  print(\"default case if nothing else\")\n",
    "\n",
    "\n"
   ]
  },
  {
   "cell_type": "code",
   "execution_count": 12,
   "metadata": {
    "colab": {
     "base_uri": "https://localhost:8080/"
    },
    "id": "Ltq02KJirH6E",
    "outputId": "ccd30352-a458-440b-dbe5-7d99791211d6"
   },
   "outputs": [
    {
     "name": "stdout",
     "output_type": "stream",
     "text": [
      "1\n",
      "4\n",
      "9\n",
      "16\n",
      "25\n",
      "36\n",
      "49\n",
      "64\n",
      "81\n",
      "range(1, 10)\n"
     ]
    }
   ],
   "source": [
    "#what if I want to do multiple runs of the same code?\n",
    "#loops\n",
    "\n",
    "#why?\n",
    "# -> counting\n",
    "\n",
    "# loop through from 1 - 10 and print out the square of each number.\n",
    "\n",
    "# \"Range\"  (3,5)\n",
    "# \"Range\"  (1,10)\n",
    "# \"Range\"  (2,10,2)\n",
    "\n",
    "for i in range(1,10): # 1 up to but not including 10\n",
    "  print(i**2)\n",
    "\n",
    "#for i in [1,2,3,4,5,6,7,8,9]\n",
    "\n",
    "\n",
    "#while loops...\n",
    "#do the loop while a condition is true.\n",
    "i = 0\n",
    "finished = False\n",
    "\n",
    "\"\"\"\n",
    "while i < 10:\n",
    "  print(i**2)\n",
    "  #welcome to an infinite loop :)\n",
    "\"\"\"\n",
    "\n",
    "x = 0\n",
    "while x < 10:\n",
    "  print(x) #Q1: how many times does this line get executed? 10\n",
    "  x++\n",
    "#Q2: what will be printed below?\n",
    "print(x)\n",
    "\n",
    "#trace\n",
    "# x = 0\n",
    "# check x < 10 =>true\n",
    "# enter the loop\n",
    "# Iteration 1:\n",
    "  # print 0\n",
    "  # x = x+ 1 => 1\n",
    "# check 1 < 10 =>true\n",
    "# enter the loop\n",
    "# Iteration 2:\n",
    "  # print 1\n",
    "  # x = x+ 1 => x = 2\n",
    "\n",
    "\n",
    "\n",
    "i = 0\n",
    "finished = False\n",
    "while i < 10 and not finished:\n",
    "  print(i**2)  #Q1: how many times does this line get executed? 4\n",
    "  #update...\n",
    "  i+= 1 # i = i + 1\n",
    "  if i%5 == 4: #Q2: how many times does this line get executed? 4\n",
    "    finshed = True #Q3: how many times doe this line get executed? 1\n",
    "\n",
    "#tracing the loops\n",
    "#iteration 1:\n",
    "# check if i < 10 => yes\n",
    "# check if !finished == True => yes\n",
    "# enter the loop\n",
    "  # print 0 * 0\n",
    "  # i = 1\n",
    "  #if i%5 == 4 ==> false\n",
    "\n",
    "#Iteration 2\n",
    "# check if i < 10 => yes\n",
    "# check if !finished == True => yes\n",
    "# enter the loop\n",
    "  #print 1*1\n",
    "  #i = 2\n",
    "  #if i%5 == 4 ==> false\n",
    "\n",
    "#Iteration 3\n",
    "# check if i < 10 => yes\n",
    "# check if !finished == True => yes\n",
    "# enter the loop\n",
    "  #print 2*2\n",
    "  #i = 3\n",
    "  #if i%5 == 4 ==> false\n",
    "\n",
    "#Iteration 4\n",
    "# check if i < 10 => yes\n",
    "# check if !finished == True => yes\n",
    "# enter the loop\n",
    "  #print 3*3\n",
    "  #i = 4\n",
    "  #if i%5 == 4 ==> true\n",
    "    #set finished = True\n",
    "\n",
    "#Iteration 5\n",
    "# check if i < 10 => yes\n",
    "# check if !finished == False => no\n",
    "#exit the loop and continue after"
   ]
  },
  {
   "cell_type": "code",
   "execution_count": 16,
   "metadata": {
    "colab": {
     "base_uri": "https://localhost:8080/"
    },
    "id": "a_RRDR7lxeNk",
    "outputId": "2447b23e-251d-4ee9-f276-631e0e4d3cbf"
   },
   "outputs": [
    {
     "name": "stdout",
     "output_type": "stream",
     "text": [
      "0\n",
      "1\n",
      "2\n",
      "3\n",
      "4\n",
      "5\n",
      "6\n",
      "7\n",
      "8\n",
      "9\n",
      "x is10\n",
      "x is 10\n"
     ]
    }
   ],
   "source": [
    "x = 0\n",
    "while x < 10:\n",
    "  print(x) #Q1: how many times does this line get executed? 10\n",
    "  x = x + 1\n",
    "#Q2: what will be printed below?\n",
    "print(\"x is \" + str(x))\n",
    "print(\"x is\", x)"
   ]
  },
  {
   "cell_type": "code",
   "execution_count": 13,
   "metadata": {
    "colab": {
     "base_uri": "https://localhost:8080/"
    },
    "id": "TB8patUmwRRb",
    "outputId": "16a90920-8ab1-4b80-9d4a-0765282e3905"
   },
   "outputs": [
    {
     "name": "stdout",
     "output_type": "stream",
     "text": [
      "True\n",
      "False\n",
      "False\n",
      "False\n"
     ]
    }
   ],
   "source": [
    "print(True and True)\n",
    "print(False and True)\n",
    "print(True and False)\n",
    "print(False and False)"
   ]
  },
  {
   "cell_type": "code",
   "execution_count": 25,
   "metadata": {
    "colab": {
     "base_uri": "https://localhost:8080/"
    },
    "id": "CjN98p58yOKU",
    "outputId": "9959106b-044d-4bd0-fb2e-204edeb9ab08"
   },
   "outputs": [
    {
     "name": "stdout",
     "output_type": "stream",
     "text": [
      "10\n",
      "5\n",
      "16\n",
      "8\n",
      "4\n",
      "2\n",
      "1\n"
     ]
    }
   ],
   "source": [
    "# a fun problem in maths\n",
    "#collatz conjecture\n",
    "number = 3\n",
    "\n",
    "while(number != 1):\n",
    "  if(number % 2 == 0):\n",
    "    number = number // 2\n",
    "  else:\n",
    "    number = 3 * number + 1\n",
    "  print(number)\n",
    "\n"
   ]
  },
  {
   "cell_type": "code",
   "execution_count": null,
   "metadata": {
    "id": "gZJof969z439"
   },
   "outputs": [],
   "source": [
    "#recap\n",
    "# tabbing is important\n",
    "#   expecially with code block\n",
    "# don't assume your code works... compile and check with a range of values to test\n",
    "# if you are not getting expected results, hand trace your code.\n",
    "# control structures:\n",
    "#     conditions\n",
    "#       if      if else       if elif     if elif elif elif...    if elif...else\n",
    "#     loops\n",
    "#        for >> iterate through values (e.g. a list ,table, range)\n",
    "#        while >> good for conditions and checks\n",
    "#                   (go through values that aren't in a ranage)\n",
    "#                   (go through while a set of conditions are true)"
   ]
  },
  {
   "cell_type": "code",
   "execution_count": null,
   "metadata": {
    "id": "W2STJrh81KTu"
   },
   "outputs": [],
   "source": [
    "# can you nest loops?\n",
    "# common reasons for nexted loops.\n",
    "\"\"\"\n",
    "while\n",
    "  if\n",
    "  else\n",
    "\n",
    "  while\n",
    "\n",
    "    if\n",
    "    else\n",
    "    while\n",
    "      while\n",
    "\"\"\""
   ]
  },
  {
   "cell_type": "code",
   "execution_count": 26,
   "metadata": {
    "colab": {
     "base_uri": "https://localhost:8080/"
    },
    "id": "Or1ujrmX2rix",
    "outputId": "8d4bee39-39a3-4a8e-a349-a8f60c049807"
   },
   "outputs": [
    {
     "name": "stdout",
     "output_type": "stream",
     "text": [
      "<class 'int'>\n"
     ]
    }
   ],
   "source": [
    "# wouldn't it be nice if we coule break up our code... \"blocks\"\n",
    "# => functions....\n",
    "\n",
    "\n",
    "# valiables\n",
    "# expressions\n",
    "# boolean expressions\n",
    "# conditionals\n",
    "# loops\n",
    "\n",
    "# functions\n",
    "print(type(42))"
   ]
  }
 ],
 "metadata": {
  "colab": {
   "provenance": []
  },
  "kernelspec": {
   "display_name": "Python 3 (ipykernel)",
   "language": "python",
   "name": "python3"
  },
  "language_info": {
   "codemirror_mode": {
    "name": "ipython",
    "version": 3
   },
   "file_extension": ".py",
   "mimetype": "text/x-python",
   "name": "python",
   "nbconvert_exporter": "python",
   "pygments_lexer": "ipython3",
   "version": "3.11.3"
  }
 },
 "nbformat": 4,
 "nbformat_minor": 1
}
