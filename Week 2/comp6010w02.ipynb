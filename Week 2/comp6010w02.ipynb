{
  "nbformat": 4,
  "nbformat_minor": 0,
  "metadata": {
    "colab": {
      "provenance": []
    },
    "kernelspec": {
      "name": "python3",
      "display_name": "Python 3"
    },
    "language_info": {
      "name": "python"
    }
  },
  "cells": [
    {
      "cell_type": "code",
      "execution_count": 2,
      "metadata": {
        "colab": {
          "base_uri": "https://localhost:8080/"
        },
        "id": "37Sfq8tIftsc",
        "outputId": "c75dffc2-ff9c-44a2-b106-7c59f94d67eb"
      },
      "outputs": [
        {
          "output_type": "stream",
          "name": "stdout",
          "text": [
            "False\n",
            "True\n"
          ]
        }
      ],
      "source": [
        "\n",
        "a = 5\n",
        "b = 6\n",
        "print(a==b)\n",
        "b = 5*5 # 5**2\n",
        "print(a==b)\n",
        "\n",
        "\n",
        "\"\"\"\n",
        "data types:\n",
        "int\n",
        "float\n",
        "string\n",
        "boolean\n",
        "lists #covered next week\n",
        "complex\n",
        "\n",
        "\n",
        "\"\"\"\n"
      ]
    },
    {
      "cell_type": "code",
      "source": [
        "name = \"Carl\"\n",
        "surname = \"Svensson\"\n",
        "\n",
        "print(len(name))\n",
        "print(len(name+surname)) # this is in one line....\n",
        "a = name + surname\n",
        "b = len(a)\n",
        "print(b)\n"
      ],
      "metadata": {
        "colab": {
          "base_uri": "https://localhost:8080/"
        },
        "id": "-QuBvzYUj60h",
        "outputId": "a0333ac6-99ba-4c65-f5b0-f128a507ca2d"
      },
      "execution_count": 4,
      "outputs": [
        {
          "output_type": "stream",
          "name": "stdout",
          "text": [
            "4\n",
            "12\n"
          ]
        }
      ]
    },
    {
      "cell_type": "code",
      "source": [
        "amountRequested = 370 #assume this is a valid number to enter\n",
        "print(\"amountRequested was \" + str(amountRequested))\n",
        "# what number of $50 notes are needed?\n",
        "# what number of $20 notes are needed?\n",
        "numberOf20s = 0 #think carefully about default values\n",
        "numberOf50s = 0\n",
        "#don't start variable names with numbers\n",
        "\n",
        "# a % b ... remainder\n",
        "# a // b ... integer division\n",
        "\n",
        "#pseudocode (planning)\n",
        "#if amountRequested >=140\n",
        "  #work out how many $50 notes are needed for the rest\n",
        "if(amountRequested >= 140):\n",
        "  temp = amountRequested - 140\n",
        "  numberOf50s = temp // 50\n",
        "  amountRequested = temp - (numberOf50s * 50) + 140\n",
        "  #print(\"amountRequested is now \" + str(amountRequested))\n",
        "\n",
        "\n",
        "#take away that $\n",
        "#use our hard coded claculations for the rest\n",
        "if(amountRequested in {20, 40, 60, 80}):\n",
        "  numberOf20s = amountRequested // 20\n",
        "else:\n",
        "  if(amountRequested in {100, 120, 140}):\n",
        "    numberOf50s = numberOf50s + 2\n",
        "    numberOf20s = (amountRequested -100) // 20\n",
        "  else:\n",
        "    # what's left at this point?\n",
        "    # 50, 70, 90, 110, 130\n",
        "    numberOf50s = numberOf50s + 1\n",
        "    numberOf20s = (amountRequested - 50) // 20\n",
        "\n",
        "numberOf20s = amountRequested // 20\n",
        "\n",
        "\n",
        "\n",
        "print(\"Number of $20 notes is \" + str(numberOf20s))\n",
        "print(\"Number of $50 notes is \" + str(numberOf50s))\n",
        "\n",
        "\n",
        "\n",
        "\n",
        "\n",
        "\n",
        "\n"
      ],
      "metadata": {
        "colab": {
          "base_uri": "https://localhost:8080/"
        },
        "id": "9qQu3XJDm9X_",
        "outputId": "a88cf8f0-0147-4139-915b-a36a52d503ee"
      },
      "execution_count": 19,
      "outputs": [
        {
          "output_type": "stream",
          "name": "stdout",
          "text": [
            "amountRequested was 370\n",
            "Number of $20 notes is 8\n",
            "Number of $50 notes is 5\n"
          ]
        }
      ]
    },
    {
      "cell_type": "code",
      "source": [],
      "metadata": {
        "id": "yTPPfoaSvaK2"
      },
      "execution_count": null,
      "outputs": []
    },
    {
      "cell_type": "code",
      "source": [
        "#print whether the validEvenString variable\n",
        "#is a string and has an even number of characters\n",
        "validEvenString = \"CarlSvensson\"\n",
        "\n",
        "if(type(validEvenString) == str):\n",
        "  print(\"it is a string\")\n",
        "  if(  len(validEvenString) %  2 == 0 ):\n",
        "    print(\"it is a valid even string\")\n",
        "    #more lines of code with same tab level...\n",
        "    print(\"it is a valid even string\")\n",
        "  else:\n",
        "    print(\"it is NOT a valid even string\")\n",
        "else:\n",
        "  print(\"it is NOT a string\")\n"
      ],
      "metadata": {
        "colab": {
          "base_uri": "https://localhost:8080/"
        },
        "id": "ymJ2dHhCqEkO",
        "outputId": "3b8dc495-8b8e-484d-99be-4cdbd3fcdc1c"
      },
      "execution_count": 22,
      "outputs": [
        {
          "output_type": "stream",
          "name": "stdout",
          "text": [
            "it is a string\n",
            "it is a valid even string\n",
            "it is a valid even string\n"
          ]
        }
      ]
    },
    {
      "cell_type": "code",
      "source": [
        "print(ord(\"a\"))\n",
        "print(bin(ord(\"a\")))\n",
        "print(ord(\"A\"))\n",
        "print(bin(ord(\"A\")))\n",
        "# ASCII characters\n",
        "\n",
        "print(\"A\" == \"a\")\n",
        "print(\"Carl\" > \"CARL\")\n",
        "#notice that CASE MATTERS with comparisons!"
      ],
      "metadata": {
        "colab": {
          "base_uri": "https://localhost:8080/"
        },
        "id": "cdTQJLtVxZLo",
        "outputId": "57c882ee-203b-4376-ffe7-1eb67cc9ab89"
      },
      "execution_count": 29,
      "outputs": [
        {
          "output_type": "stream",
          "name": "stdout",
          "text": [
            "97\n",
            "0b1100001\n",
            "65\n",
            "0b1000001\n",
            "False\n",
            "True\n"
          ]
        }
      ]
    },
    {
      "cell_type": "code",
      "source": [
        "#strings and slicing\n",
        "\n",
        "s = \"CarlSvensson\"\n",
        "#UTF8, unicode\n",
        "\n",
        "#get parts of the string to work with\n",
        "#s[]  # [ start: stop : step]\n",
        "print(s[::2]) # print(s[0:len(s):2])\n",
        "print(s[1::2])\n",
        "print(s[::-1])\n",
        "print(s[:6:-1])\n",
        "print(s)\n",
        "# go backwards until index 6 of the original string"
      ],
      "metadata": {
        "colab": {
          "base_uri": "https://localhost:8080/"
        },
        "id": "AQGbos4RytDN",
        "outputId": "7289a3a2-7733-478d-f7a7-8a3dce43955e"
      },
      "execution_count": 36,
      "outputs": [
        {
          "output_type": "stream",
          "name": "stdout",
          "text": [
            "CrSeso\n",
            "alvnsn\n",
            "nossnevSlraC\n",
            "nossn\n",
            "CarlSvensson\n"
          ]
        }
      ]
    },
    {
      "cell_type": "code",
      "source": [],
      "metadata": {
        "colab": {
          "base_uri": "https://localhost:8080/"
        },
        "id": "sPAmHkq02PAt",
        "outputId": "1dce75b2-fd7a-4146-b2d8-49a4a52420fd"
      },
      "execution_count": 37,
      "outputs": [
        {
          "output_type": "stream",
          "name": "stdout",
          "text": [
            "range(5, 20, 3)\n"
          ]
        }
      ]
    }
  ]
}